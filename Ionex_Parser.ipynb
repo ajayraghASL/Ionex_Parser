{
 "cells": [
  {
   "cell_type": "markdown",
   "id": "93c6cc89",
   "metadata": {},
   "source": [
    "### File Description\n",
    "\n",
    "#### Author: Ajay Ragh\n",
    "#### Packages: ionex,numpy,matplotlib\n",
    "##### ionex: https://github.com/gnss-lab/ionex.git\n",
    "##### Comments: uncomment next cell to install the ionex package\n",
    "##### Date: 07-04-2022"
   ]
  },
  {
   "cell_type": "code",
   "execution_count": 1,
   "id": "cae79ad8",
   "metadata": {},
   "outputs": [],
   "source": [
    "# !pip install -e git+https://github.com/gnss-lab/ionex.git#egg=ionex"
   ]
  },
  {
   "cell_type": "code",
   "execution_count": 2,
   "id": "c28641eb",
   "metadata": {},
   "outputs": [],
   "source": [
    "import ionex as ix\n",
    "import numpy as np\n",
    "import datetime\n",
    "import matplotlib.pyplot as plt"
   ]
  },
  {
   "cell_type": "code",
   "execution_count": 3,
   "id": "2961196d",
   "metadata": {},
   "outputs": [],
   "source": [
    "def tec_grid(file):\n",
    "    inx = ix.reader(file)\n",
    "    exponent = inx.exponent\n",
    "    tec  = []\n",
    "    epochs = []\n",
    "    for i in inx:\n",
    "        vals = i.tec\n",
    "        epoch_val = i.epoch\n",
    "        tec.append(vals)\n",
    "        epochs.append(epoch_val)\n",
    "    height = i.height\n",
    "    print(\"the altitude of data measured is:\",height)\n",
    "    tec = np.asarray(tec)\n",
    "    \n",
    "    return inx,tec,epochs,exponent"
   ]
  },
  {
   "cell_type": "code",
   "execution_count": 4,
   "id": "8387bd4b",
   "metadata": {},
   "outputs": [],
   "source": [
    "def get_lats_lons(inx):\n",
    "    lat = inx.latitude\n",
    "    lon = inx.longitude\n",
    "    lats = []\n",
    "    lats.append(lat.lat1)\n",
    "    count_lat = lat.lat1\n",
    "    for i in range (int((abs(lat.lat1-lat.lat2)/abs(lat.dlat)))):\n",
    "        count_lat = count_lat+lat.dlat\n",
    "        lats.append(count_lat)\n",
    "    \n",
    "    lons = []\n",
    "    lons.append(lon.lon1)\n",
    "    count_lon = lon.lon1\n",
    "    for i in range (int((abs(lon.lon1-lon.lon2)/abs(lon.dlon)))):\n",
    "        count_lon = count_lon+lon.dlon\n",
    "        lons.append(count_lon)\n",
    "    \n",
    "    return lats,lons"
   ]
  },
  {
   "cell_type": "code",
   "execution_count": 5,
   "id": "805ec5eb",
   "metadata": {},
   "outputs": [],
   "source": [
    "def get_tec(file,epoch,lat,lon):\n",
    "    inx,tec,epochs,exponent = tec_grid(file)\n",
    "    lats,lons = get_lats_lons(inx)\n",
    "    tec = tec.reshape(tec.shape[0],len(lats),len(lons))\n",
    "    closest_lat = lats[min(range(len(lats)), key = lambda i: abs(lats[i]-lat))]\n",
    "    closest_lon = lons[min(range(len(lons)), key = lambda i: abs(lons[i]-lon))]\n",
    "    \n",
    "    print(\"Closest latitude:\",closest_lat)\n",
    "    print(\"Closest Longitude:\",closest_lon)\n",
    "    \n",
    "    lat_index=lats.index(closest_lat)\n",
    "    lon_index=lons.index(closest_lon)\n",
    "    epoch_index = epochs.index(epoch)\n",
    "    \n",
    "    print(\"Epoch and index:\",epoch,\",\",epoch_index)\n",
    "    \n",
    "    tec_val = tec[epoch_index,lat_index,lon_index]\n",
    "    tec_val = tec_val*10**(exponent)\n",
    "    \n",
    "    return tec_val"
   ]
  },
  {
   "cell_type": "code",
   "execution_count": 6,
   "id": "4953b1e1",
   "metadata": {},
   "outputs": [],
   "source": [
    "def show_grid(file):\n",
    "    temp_val = ix.reader(file)\n",
    "    for i in temp_val:\n",
    "        print(i.grid)\n",
    "        break"
   ]
  },
  {
   "cell_type": "code",
   "execution_count": 7,
   "id": "c1f6000d",
   "metadata": {},
   "outputs": [
    {
     "name": "stdout",
     "output_type": "stream",
     "text": [
      "Grid(latitude=Latitude(lat1=87.5, lat2=-87.5, dlat=-2.5), longitude=Longitude(lon1=-180.0, lon2=180.0, dlon=5.0))\n"
     ]
    }
   ],
   "source": [
    "file = \"data/igsg0210.22i\"\n",
    "show_grid(file)\n"
   ]
  },
  {
   "cell_type": "markdown",
   "id": "09d50ac7",
   "metadata": {},
   "source": [
    "### Enter latitude between lat1 & lat2, similarly enter longitude between lon1 & lon2. \n",
    "### The displayed tec value will be for the closest latitude and longitude in the data to the entered latitude and longitude\n"
   ]
  },
  {
   "cell_type": "code",
   "execution_count": 8,
   "id": "e4c841b8",
   "metadata": {},
   "outputs": [
    {
     "name": "stdout",
     "output_type": "stream",
     "text": [
      "the altitude of data measured is: Height(hgt1=450.0, hgt2=450.0, dhgt=0.0)\n",
      "Closest latitude: 12.5\n",
      "Closest Longitude: -165.0\n",
      "Epoch and index: 2022-01-21 14:00:00 , 7\n",
      "TEC Value: 0.7400000000000001\n"
     ]
    }
   ],
   "source": [
    "#start epoch = 2022/1/21,00:00\n",
    "#epoch increment = 2 hours\n",
    "#enter epoch accordingly\n",
    "yyyy=2022\n",
    "mm=1\n",
    "dd=21\n",
    "hh=14\n",
    "mins=0\n",
    "\n",
    "lat= 12\n",
    "lon=-163\n",
    "epoch=datetime.datetime(yyyy,mm,dd,hh,mins)\n",
    "\n",
    "tec_val = get_tec(file,epoch,lat,lon)\n",
    "print(\"TEC Value:\",tec_val)"
   ]
  },
  {
   "cell_type": "markdown",
   "id": "146a6e45",
   "metadata": {},
   "source": [
    "#### Visualising TEC layers"
   ]
  },
  {
   "cell_type": "code",
   "execution_count": 9,
   "id": "518d1b57",
   "metadata": {},
   "outputs": [
    {
     "name": "stdout",
     "output_type": "stream",
     "text": [
      "the altitude of data measured is: Height(hgt1=450.0, hgt2=450.0, dhgt=0.0)\n"
     ]
    },
    {
     "ename": "ValueError",
     "evalue": "too many values to unpack (expected 3)",
     "output_type": "error",
     "traceback": [
      "\u001b[0;31m---------------------------------------------------------------------------\u001b[0m",
      "\u001b[0;31mValueError\u001b[0m                                Traceback (most recent call last)",
      "\u001b[0;32m/tmp/ipykernel_7579/1037337459.py\u001b[0m in \u001b[0;36m<module>\u001b[0;34m\u001b[0m\n\u001b[1;32m      1\u001b[0m \u001b[0mplt\u001b[0m\u001b[0;34m.\u001b[0m\u001b[0mrcParams\u001b[0m\u001b[0;34m[\u001b[0m\u001b[0;34m\"figure.figsize\"\u001b[0m\u001b[0;34m]\u001b[0m \u001b[0;34m=\u001b[0m \u001b[0;34m(\u001b[0m\u001b[0;36m20\u001b[0m\u001b[0;34m,\u001b[0m\u001b[0;36m20\u001b[0m\u001b[0;34m)\u001b[0m\u001b[0;34m\u001b[0m\u001b[0;34m\u001b[0m\u001b[0m\n\u001b[1;32m      2\u001b[0m \u001b[0;34m\u001b[0m\u001b[0m\n\u001b[0;32m----> 3\u001b[0;31m \u001b[0minx\u001b[0m\u001b[0;34m,\u001b[0m\u001b[0mtec\u001b[0m\u001b[0;34m,\u001b[0m\u001b[0mepochs\u001b[0m\u001b[0;34m=\u001b[0m \u001b[0mtec_grid\u001b[0m\u001b[0;34m(\u001b[0m\u001b[0mfile\u001b[0m\u001b[0;34m)\u001b[0m\u001b[0;34m\u001b[0m\u001b[0;34m\u001b[0m\u001b[0m\n\u001b[0m\u001b[1;32m      4\u001b[0m \u001b[0mlats\u001b[0m\u001b[0;34m,\u001b[0m\u001b[0mlons\u001b[0m \u001b[0;34m=\u001b[0m \u001b[0mget_lats_lons\u001b[0m\u001b[0;34m(\u001b[0m\u001b[0minx\u001b[0m\u001b[0;34m)\u001b[0m\u001b[0;34m\u001b[0m\u001b[0;34m\u001b[0m\u001b[0m\n\u001b[1;32m      5\u001b[0m \u001b[0mtec\u001b[0m \u001b[0;34m=\u001b[0m \u001b[0mtec\u001b[0m\u001b[0;34m.\u001b[0m\u001b[0mreshape\u001b[0m\u001b[0;34m(\u001b[0m\u001b[0mtec\u001b[0m\u001b[0;34m.\u001b[0m\u001b[0mshape\u001b[0m\u001b[0;34m[\u001b[0m\u001b[0;36m0\u001b[0m\u001b[0;34m]\u001b[0m\u001b[0;34m,\u001b[0m\u001b[0mlen\u001b[0m\u001b[0;34m(\u001b[0m\u001b[0mlats\u001b[0m\u001b[0;34m)\u001b[0m\u001b[0;34m,\u001b[0m\u001b[0mlen\u001b[0m\u001b[0;34m(\u001b[0m\u001b[0mlons\u001b[0m\u001b[0;34m)\u001b[0m\u001b[0;34m)\u001b[0m\u001b[0;34m\u001b[0m\u001b[0;34m\u001b[0m\u001b[0m\n",
      "\u001b[0;31mValueError\u001b[0m: too many values to unpack (expected 3)"
     ]
    }
   ],
   "source": [
    "plt.rcParams[\"figure.figsize\"] = (20,20)\n",
    "\n",
    "inx,tec,epochs= tec_grid(file)\n",
    "lats,lons = get_lats_lons(inx)\n",
    "tec = tec.reshape(tec.shape[0],len(lats),len(lons))\n",
    "for i in range(tec.shape[0]):\n",
    "    plt.subplot(3,5,i+1)\n",
    "    plt.imshow(tec[i])"
   ]
  },
  {
   "cell_type": "code",
   "execution_count": null,
   "id": "1290e1c8",
   "metadata": {},
   "outputs": [],
   "source": []
  },
  {
   "cell_type": "code",
   "execution_count": null,
   "id": "8079524a",
   "metadata": {},
   "outputs": [],
   "source": []
  }
 ],
 "metadata": {
  "kernelspec": {
   "display_name": "Python 3 (ipykernel)",
   "language": "python",
   "name": "python3"
  },
  "language_info": {
   "codemirror_mode": {
    "name": "ipython",
    "version": 3
   },
   "file_extension": ".py",
   "mimetype": "text/x-python",
   "name": "python",
   "nbconvert_exporter": "python",
   "pygments_lexer": "ipython3",
   "version": "3.9.7"
  }
 },
 "nbformat": 4,
 "nbformat_minor": 5
}
